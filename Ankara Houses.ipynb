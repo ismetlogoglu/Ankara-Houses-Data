# Ankara-Houses-Data
Anakara's Houses Data set with visulation 
